{
  "nbformat": 4,
  "nbformat_minor": 0,
  "metadata": {
    "colab": {
      "name": "scipy.io.wavfile.ipynb",
      "provenance": []
    },
    "kernelspec": {
      "name": "python3",
      "display_name": "Python 3"
    },
    "language_info": {
      "name": "python"
    }
  },
  "cells": [
    {
      "cell_type": "markdown",
      "metadata": {
        "id": "-J6cvlcI3VwU"
      },
      "source": [
        "# import wavfile from scipy.io to read and create audio .wav signals "
      ]
    },
    {
      "cell_type": "code",
      "metadata": {
        "id": "YNN42FAXfkNf"
      },
      "source": [
        "from scipy.io import wavfile\n",
        "#import scipy.io"
      ],
      "execution_count": 1,
      "outputs": []
    },
    {
      "cell_type": "markdown",
      "metadata": {
        "id": "HzzwJmHR3s2h"
      },
      "source": [
        "# upload audio signal "
      ]
    },
    {
      "cell_type": "code",
      "metadata": {
        "colab": {
          "base_uri": "https://localhost:8080/"
        },
        "id": "Pdhe-Z8q3xyq",
        "outputId": "4f015863-8019-4eaf-ca1a-018176b456ab"
      },
      "source": [
        "samplerate, data = wavfile.read('/content/file2.wav')\n",
        "print(samplerate)\n",
        "print(data)"
      ],
      "execution_count": 3,
      "outputs": [
        {
          "output_type": "stream",
          "name": "stdout",
          "text": [
            "8000\n",
            "[[ -114    23]\n",
            " [ -241     3]\n",
            " [ -285   -29]\n",
            " ...\n",
            " [ -772 -1059]\n",
            " [ -422  -840]\n",
            " [ -787  -314]]\n"
          ]
        },
        {
          "output_type": "stream",
          "name": "stderr",
          "text": [
            "/usr/local/lib/python3.7/dist-packages/ipykernel_launcher.py:1: WavFileWarning: Chunk (non-data) not understood, skipping it.\n",
            "  \"\"\"Entry point for launching an IPython kernel.\n"
          ]
        }
      ]
    },
    {
      "cell_type": "markdown",
      "metadata": {
        "id": "iLDiUI584gO0"
      },
      "source": [
        "# Determine the number of channels in the signal"
      ]
    },
    {
      "cell_type": "code",
      "metadata": {
        "colab": {
          "base_uri": "https://localhost:8080/"
        },
        "id": "XdUiQ5qx5FCJ",
        "outputId": "7b5689fe-1463-4882-e25f-eb04c7f6c136"
      },
      "source": [
        "print(\"number of channels = \", data.shape[1])"
      ],
      "execution_count": 4,
      "outputs": [
        {
          "output_type": "stream",
          "name": "stdout",
          "text": [
            "number of channels =  2\n"
          ]
        }
      ]
    },
    {
      "cell_type": "markdown",
      "metadata": {
        "id": "7fFFZzaL5p4j"
      },
      "source": [
        "# Determine the number of samples"
      ]
    },
    {
      "cell_type": "code",
      "metadata": {
        "colab": {
          "base_uri": "https://localhost:8080/"
        },
        "id": "GvHoyJPR5uOB",
        "outputId": "535d50d6-aec8-494f-8e08-936a7c54aa76"
      },
      "source": [
        "length = data.shape[0] / samplerate\n",
        "print(f\"length = {length}s\")"
      ],
      "execution_count": 5,
      "outputs": [
        {
          "output_type": "stream",
          "name": "stdout",
          "text": [
            "length = 33.529625s\n"
          ]
        }
      ]
    },
    {
      "cell_type": "markdown",
      "metadata": {
        "id": "2NleWB_853UX"
      },
      "source": [
        "# create a .wav file"
      ]
    },
    {
      "cell_type": "code",
      "metadata": {
        "id": "Wn1OHn-ofqpb"
      },
      "source": [
        "s=wavfile.write('/content/s1.wav', samplerate, data[:, 0])"
      ],
      "execution_count": 8,
      "outputs": []
    },
    {
      "cell_type": "markdown",
      "metadata": {
        "id": "CD1jhChx6BDC"
      },
      "source": [
        "# Plotting the sound (wav file)"
      ]
    },
    {
      "cell_type": "code",
      "metadata": {
        "id": "QKLYFqzBnMLn",
        "colab": {
          "base_uri": "https://localhost:8080/",
          "height": 296
        },
        "outputId": "19cf37bc-7e43-4de8-b911-125787ffbdab"
      },
      "source": [
        "import matplotlib.pyplot as plt\n",
        "\n",
        "import numpy as np\n",
        "\n",
        "\n",
        "plt.plot(np.arange(data.shape[0])/samplerate, data[:, 0], label='left channel')\n",
        "#plt.plot(np.arange(data.shape[0])/samplerate, data[:, 1], label='Right channel')\n",
        "\n",
        "\n",
        "plt.xlabel('time')\n",
        "plt.ylabel('amplitude')"
      ],
      "execution_count": 13,
      "outputs": [
        {
          "output_type": "execute_result",
          "data": {
            "text/plain": [
              "Text(0, 0.5, 'amplitude')"
            ]
          },
          "metadata": {},
          "execution_count": 13
        },
        {
          "output_type": "display_data",
          "data": {
            "image/png": "[encoded data removed]",
            "text/plain": [
              "<Figure size 432x288 with 1 Axes>"
            ]
          },
          "metadata": {
            "needs_background": "light"
          }
        }
      ]
    }
  ]
}